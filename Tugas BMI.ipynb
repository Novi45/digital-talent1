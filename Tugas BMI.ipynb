{
 "cells": [
  {
   "cell_type": "markdown",
   "metadata": {},
   "source": [
    "# LATIHAN I\n",
    "Body Mass Index (BMI) oleh Novi Dwiasih\n",
    "\n",
    "SOAL : Buatlah sebuah program yang memiliki dua variabel berat badan dengan satuan KG, dan tinggi badan dengan satuan CM, kemudian keluaran dari program adalah Kategori BMI !"
   ]
  },
  {
   "cell_type": "code",
   "execution_count": 8,
   "metadata": {},
   "outputs": [
    {
     "name": "stdout",
     "output_type": "stream",
     "text": [
      "Weight =  45 KG\n",
      "Height =  158 CM\n",
      "Nilai BMI =  18.02595737862522\n",
      "Kategori BMI = \n",
      "Underweight\n"
     ]
    }
   ],
   "source": [
    "# VARIABEL W = Weight, h = height\n",
    "W = 45 #BB = berat badan\n",
    "h = 158 #dalam CM\n",
    "\n",
    "H = (h/100) #dalam Meter\n",
    "print (\"Weight = \", W , \"KG\")\n",
    "print (\"Height = \", h , \"CM\")\n",
    "\n",
    "BMI = (W/(H**2))\n",
    "print (\"Nilai BMI = \", BMI)\n",
    "print (\"Kategori BMI = \")\n",
    "if BMI < 15:\n",
    "    print (\"Very severely underweight\")\n",
    "if BMI >= 15 and BMI < 16:\n",
    "    print (\"Severely underweight\")\n",
    "if BMI >= 16 and BMI < 18.5:\n",
    "    print (\"Underweight\")\n",
    "if BMI >= 18.5 and BMI < 25:\n",
    "    print (\"Normal (healthy weight)\")\n",
    "if BMI >= 25 and BMI < 30:\n",
    "    print (\"Overweight\")\n",
    "if BMI >= 30 and BMI < 35:\n",
    "    print (\"Moderately Obese\")\n",
    "if BMI >= 35 and BMI <= 40:\n",
    "    print (\"Severaly Obese\")\n",
    "if BMI > 40:\n",
    "    print (\"Very Severely Obese\")\n",
    "\n"
   ]
  },
  {
   "cell_type": "code",
   "execution_count": null,
   "metadata": {},
   "outputs": [],
   "source": []
  },
  {
   "cell_type": "code",
   "execution_count": null,
   "metadata": {},
   "outputs": [],
   "source": []
  }
 ],
 "metadata": {
  "kernelspec": {
   "display_name": "Python 3",
   "language": "python",
   "name": "python3"
  },
  "language_info": {
   "codemirror_mode": {
    "name": "ipython",
    "version": 3
   },
   "file_extension": ".py",
   "mimetype": "text/x-python",
   "name": "python",
   "nbconvert_exporter": "python",
   "pygments_lexer": "ipython3",
   "version": "3.7.0"
  }
 },
 "nbformat": 4,
 "nbformat_minor": 2
}
