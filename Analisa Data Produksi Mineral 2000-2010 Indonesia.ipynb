{
 "cells": [
  {
   "cell_type": "code",
   "execution_count": 1,
   "metadata": {},
   "outputs": [],
   "source": [
    "import pandas as pd"
   ]
  },
  {
   "cell_type": "code",
   "execution_count": 54,
   "metadata": {},
   "outputs": [],
   "source": [
    "data_produksi = pd.read_csv('processed-produksi-mineralpt1-2000-2010.csv', delimiter = ',', encoding = \"ISO-8859-1\")"
   ]
  },
  {
   "cell_type": "code",
   "execution_count": 55,
   "metadata": {},
   "outputs": [
    {
     "data": {
      "text/html": [
       "<div>\n",
       "<style scoped>\n",
       "    .dataframe tbody tr th:only-of-type {\n",
       "        vertical-align: middle;\n",
       "    }\n",
       "\n",
       "    .dataframe tbody tr th {\n",
       "        vertical-align: top;\n",
       "    }\n",
       "\n",
       "    .dataframe thead th {\n",
       "        text-align: right;\n",
       "    }\n",
       "</style>\n",
       "<table border=\"1\" class=\"dataframe\">\n",
       "  <thead>\n",
       "    <tr style=\"text-align: right;\">\n",
       "      <th></th>\n",
       "      <th>Nama_perusahaan</th>\n",
       "      <th>Komoditas</th>\n",
       "      <th>Satuan</th>\n",
       "      <th>Tahun</th>\n",
       "      <th>Nilai</th>\n",
       "    </tr>\n",
       "  </thead>\n",
       "  <tbody>\n",
       "    <tr>\n",
       "      <th>0</th>\n",
       "      <td>Galuh Cempaka, PT</td>\n",
       "      <td>Diamond</td>\n",
       "      <td>kg</td>\n",
       "      <td>2005</td>\n",
       "      <td>21606000</td>\n",
       "    </tr>\n",
       "    <tr>\n",
       "      <th>1</th>\n",
       "      <td>Galuh Cempaka, PT</td>\n",
       "      <td>Diamond</td>\n",
       "      <td>kg</td>\n",
       "      <td>2007</td>\n",
       "      <td>22980000</td>\n",
       "    </tr>\n",
       "    <tr>\n",
       "      <th>2</th>\n",
       "      <td>Galuh Cempaka, PT</td>\n",
       "      <td>Diamond</td>\n",
       "      <td>kg</td>\n",
       "      <td>2008</td>\n",
       "      <td>27688000</td>\n",
       "    </tr>\n",
       "    <tr>\n",
       "      <th>3</th>\n",
       "      <td>Galuh Cempaka, PT</td>\n",
       "      <td>Diamond</td>\n",
       "      <td>kg</td>\n",
       "      <td>2006</td>\n",
       "      <td>46856000</td>\n",
       "    </tr>\n",
       "    <tr>\n",
       "      <th>4</th>\n",
       "      <td>Newmont Nusa Tenggara, PT</td>\n",
       "      <td>Copper conct.</td>\n",
       "      <td>kg</td>\n",
       "      <td>2010</td>\n",
       "      <td>227169000</td>\n",
       "    </tr>\n",
       "    <tr>\n",
       "      <th>5</th>\n",
       "      <td>Newmont Nusa Tenggara, PT</td>\n",
       "      <td>Copper conct.</td>\n",
       "      <td>kg</td>\n",
       "      <td>2008</td>\n",
       "      <td>496972000</td>\n",
       "    </tr>\n",
       "    <tr>\n",
       "      <th>6</th>\n",
       "      <td>Freeport Indonesia, PT</td>\n",
       "      <td>Copper conct.</td>\n",
       "      <td>kg</td>\n",
       "      <td>2010</td>\n",
       "      <td>610377000</td>\n",
       "    </tr>\n",
       "    <tr>\n",
       "      <th>7</th>\n",
       "      <td>Newmont Nusa Tenggara, PT</td>\n",
       "      <td>Copper conct.</td>\n",
       "      <td>kg</td>\n",
       "      <td>2006</td>\n",
       "      <td>714331000</td>\n",
       "    </tr>\n",
       "    <tr>\n",
       "      <th>8</th>\n",
       "      <td>Newmont Nusa Tenggara, PT</td>\n",
       "      <td>Copper conct.</td>\n",
       "      <td>kg</td>\n",
       "      <td>2000</td>\n",
       "      <td>743697000</td>\n",
       "    </tr>\n",
       "    <tr>\n",
       "      <th>9</th>\n",
       "      <td>Newmont Nusa Tenggara, PT</td>\n",
       "      <td>Copper conct.</td>\n",
       "      <td>kg</td>\n",
       "      <td>2009</td>\n",
       "      <td>752355000</td>\n",
       "    </tr>\n",
       "    <tr>\n",
       "      <th>10</th>\n",
       "      <td>Newmont Nusa Tenggara, PT</td>\n",
       "      <td>Copper conct.</td>\n",
       "      <td>kg</td>\n",
       "      <td>2007</td>\n",
       "      <td>789564000</td>\n",
       "    </tr>\n",
       "    <tr>\n",
       "      <th>11</th>\n",
       "      <td>Newmont Nusa Tenggara, PT</td>\n",
       "      <td>Copper conct.</td>\n",
       "      <td>kg</td>\n",
       "      <td>2001</td>\n",
       "      <td>871389000</td>\n",
       "    </tr>\n",
       "    <tr>\n",
       "      <th>12</th>\n",
       "      <td>Newmont Nusa Tenggara, PT</td>\n",
       "      <td>Copper conct.</td>\n",
       "      <td>kg</td>\n",
       "      <td>2005</td>\n",
       "      <td>908258000</td>\n",
       "    </tr>\n",
       "    <tr>\n",
       "      <th>13</th>\n",
       "      <td>Newmont Nusa Tenggara, PT</td>\n",
       "      <td>Copper conct.</td>\n",
       "      <td>kg</td>\n",
       "      <td>2003</td>\n",
       "      <td>932106000</td>\n",
       "    </tr>\n",
       "    <tr>\n",
       "      <th>14</th>\n",
       "      <td>Newmont Nusa Tenggara, PT</td>\n",
       "      <td>Copper conct.</td>\n",
       "      <td>kg</td>\n",
       "      <td>2002</td>\n",
       "      <td>935505000</td>\n",
       "    </tr>\n",
       "    <tr>\n",
       "      <th>15</th>\n",
       "      <td>Newmont Nusa Tenggara, PT</td>\n",
       "      <td>Copper conct.</td>\n",
       "      <td>kg</td>\n",
       "      <td>2004</td>\n",
       "      <td>1007099000</td>\n",
       "    </tr>\n",
       "    <tr>\n",
       "      <th>16</th>\n",
       "      <td>Freeport Indonesia, PT</td>\n",
       "      <td>Copper conct.</td>\n",
       "      <td>kg</td>\n",
       "      <td>2004</td>\n",
       "      <td>1803234000</td>\n",
       "    </tr>\n",
       "    <tr>\n",
       "      <th>17</th>\n",
       "      <td>Freeport Indonesia, PT</td>\n",
       "      <td>Copper conct.</td>\n",
       "      <td>kg</td>\n",
       "      <td>2008</td>\n",
       "      <td>1900927000</td>\n",
       "    </tr>\n",
       "    <tr>\n",
       "      <th>18</th>\n",
       "      <td>Freeport Indonesia, PT</td>\n",
       "      <td>Copper conct.</td>\n",
       "      <td>kg</td>\n",
       "      <td>2007</td>\n",
       "      <td>2025388000</td>\n",
       "    </tr>\n",
       "    <tr>\n",
       "      <th>19</th>\n",
       "      <td>Freeport Indonesia, PT</td>\n",
       "      <td>Copper conct.</td>\n",
       "      <td>kg</td>\n",
       "      <td>2006</td>\n",
       "      <td>2223678000</td>\n",
       "    </tr>\n",
       "    <tr>\n",
       "      <th>20</th>\n",
       "      <td>Freeport Indonesia, PT</td>\n",
       "      <td>Copper conct.</td>\n",
       "      <td>kg</td>\n",
       "      <td>2003</td>\n",
       "      <td>2306200000</td>\n",
       "    </tr>\n",
       "    <tr>\n",
       "      <th>21</th>\n",
       "      <td>Freeport Indonesia, PT</td>\n",
       "      <td>Copper conct.</td>\n",
       "      <td>kg</td>\n",
       "      <td>2001</td>\n",
       "      <td>2418110000</td>\n",
       "    </tr>\n",
       "    <tr>\n",
       "      <th>22</th>\n",
       "      <td>Freeport Indonesia, PT</td>\n",
       "      <td>Copper conct.</td>\n",
       "      <td>kg</td>\n",
       "      <td>2000</td>\n",
       "      <td>2522670000</td>\n",
       "    </tr>\n",
       "    <tr>\n",
       "      <th>23</th>\n",
       "      <td>Freeport Indonesia, PT</td>\n",
       "      <td>Copper conct.</td>\n",
       "      <td>kg</td>\n",
       "      <td>2005</td>\n",
       "      <td>2645550000</td>\n",
       "    </tr>\n",
       "    <tr>\n",
       "      <th>24</th>\n",
       "      <td>Freeport Indonesia, PT</td>\n",
       "      <td>Copper conct.</td>\n",
       "      <td>kg</td>\n",
       "      <td>2009</td>\n",
       "      <td>2731769000</td>\n",
       "    </tr>\n",
       "    <tr>\n",
       "      <th>25</th>\n",
       "      <td>Freeport Indonesia, PT</td>\n",
       "      <td>Copper conct.</td>\n",
       "      <td>kg</td>\n",
       "      <td>2002</td>\n",
       "      <td>2851190000</td>\n",
       "    </tr>\n",
       "    <tr>\n",
       "      <th>26</th>\n",
       "      <td>Galuh Cempaka, PT</td>\n",
       "      <td>Gold</td>\n",
       "      <td>kg</td>\n",
       "      <td>2005</td>\n",
       "      <td>11</td>\n",
       "    </tr>\n",
       "    <tr>\n",
       "      <th>27</th>\n",
       "      <td>Galuh Cempaka, PT</td>\n",
       "      <td>Gold</td>\n",
       "      <td>kg</td>\n",
       "      <td>2008</td>\n",
       "      <td>15</td>\n",
       "    </tr>\n",
       "    <tr>\n",
       "      <th>28</th>\n",
       "      <td>Galuh Cempaka, PT</td>\n",
       "      <td>Gold</td>\n",
       "      <td>kg</td>\n",
       "      <td>2007</td>\n",
       "      <td>17</td>\n",
       "    </tr>\n",
       "    <tr>\n",
       "      <th>29</th>\n",
       "      <td>Galuh Cempaka, PT</td>\n",
       "      <td>Gold</td>\n",
       "      <td>kg</td>\n",
       "      <td>2006</td>\n",
       "      <td>37</td>\n",
       "    </tr>\n",
       "    <tr>\n",
       "      <th>...</th>\n",
       "      <td>...</td>\n",
       "      <td>...</td>\n",
       "      <td>...</td>\n",
       "      <td>...</td>\n",
       "      <td>...</td>\n",
       "    </tr>\n",
       "    <tr>\n",
       "      <th>325</th>\n",
       "      <td>Aneka Tambang Tbk, PT</td>\n",
       "      <td>Iron sand</td>\n",
       "      <td>kg</td>\n",
       "      <td>2000</td>\n",
       "      <td>489132000</td>\n",
       "    </tr>\n",
       "    <tr>\n",
       "      <th>326</th>\n",
       "      <td>Aneka Tambang Tbk, PT</td>\n",
       "      <td>#NAME?</td>\n",
       "      <td>kg</td>\n",
       "      <td>2005</td>\n",
       "      <td>708812000</td>\n",
       "    </tr>\n",
       "    <tr>\n",
       "      <th>327</th>\n",
       "      <td>Aneka Tambang Tbk, PT</td>\n",
       "      <td>#NAME?</td>\n",
       "      <td>kg</td>\n",
       "      <td>2002</td>\n",
       "      <td>725530000</td>\n",
       "    </tr>\n",
       "    <tr>\n",
       "      <th>328</th>\n",
       "      <td>Aneka Tambang Tbk, PT</td>\n",
       "      <td>#NAME?</td>\n",
       "      <td>kg</td>\n",
       "      <td>2006</td>\n",
       "      <td>859871000</td>\n",
       "    </tr>\n",
       "    <tr>\n",
       "      <th>329</th>\n",
       "      <td>Aneka Tambang Tbk, PT</td>\n",
       "      <td>Nickel ore</td>\n",
       "      <td>kg</td>\n",
       "      <td>2000</td>\n",
       "      <td>931355000</td>\n",
       "    </tr>\n",
       "    <tr>\n",
       "      <th>330</th>\n",
       "      <td>Aneka Tambang Tbk, PT</td>\n",
       "      <td>Ni-Lg</td>\n",
       "      <td>kg</td>\n",
       "      <td>2004</td>\n",
       "      <td>943058000</td>\n",
       "    </tr>\n",
       "    <tr>\n",
       "      <th>331</th>\n",
       "      <td>Aneka Tambang Tbk, PT</td>\n",
       "      <td>Ni-Lg</td>\n",
       "      <td>kg</td>\n",
       "      <td>2003</td>\n",
       "      <td>1088696000</td>\n",
       "    </tr>\n",
       "    <tr>\n",
       "      <th>332</th>\n",
       "      <td>Aneka Tambang Tbk, PT</td>\n",
       "      <td>Ni-Lg</td>\n",
       "      <td>kg</td>\n",
       "      <td>2001</td>\n",
       "      <td>1120978000</td>\n",
       "    </tr>\n",
       "    <tr>\n",
       "      <th>333</th>\n",
       "      <td>Aneka Tambang Tbk, PT</td>\n",
       "      <td>Ni-Hg</td>\n",
       "      <td>kg</td>\n",
       "      <td>2005</td>\n",
       "      <td>1836768000</td>\n",
       "    </tr>\n",
       "    <tr>\n",
       "      <th>334</th>\n",
       "      <td>Aneka Tambang Tbk, PT</td>\n",
       "      <td>Nickel ore</td>\n",
       "      <td>kg</td>\n",
       "      <td>2000</td>\n",
       "      <td>2107454000</td>\n",
       "    </tr>\n",
       "    <tr>\n",
       "      <th>335</th>\n",
       "      <td>Aneka Tambang Tbk, PT</td>\n",
       "      <td>Ni-Lg</td>\n",
       "      <td>kg</td>\n",
       "      <td>2009</td>\n",
       "      <td>2459409000</td>\n",
       "    </tr>\n",
       "    <tr>\n",
       "      <th>336</th>\n",
       "      <td>Aneka Tambang Tbk, PT</td>\n",
       "      <td>Ni-Hg</td>\n",
       "      <td>kg</td>\n",
       "      <td>2001</td>\n",
       "      <td>2498163000</td>\n",
       "    </tr>\n",
       "    <tr>\n",
       "      <th>337</th>\n",
       "      <td>Aneka Tambang Tbk, PT</td>\n",
       "      <td>Ni-Lg</td>\n",
       "      <td>kg</td>\n",
       "      <td>2008</td>\n",
       "      <td>2544244000</td>\n",
       "    </tr>\n",
       "    <tr>\n",
       "      <th>338</th>\n",
       "      <td>Aneka Tambang Tbk, PT</td>\n",
       "      <td>Nickel ore</td>\n",
       "      <td>kg</td>\n",
       "      <td>2005</td>\n",
       "      <td>2545580000</td>\n",
       "    </tr>\n",
       "    <tr>\n",
       "      <th>339</th>\n",
       "      <td>Aneka Tambang Tbk, PT</td>\n",
       "      <td>Nickel ore</td>\n",
       "      <td>kg</td>\n",
       "      <td>2000</td>\n",
       "      <td>3038809000</td>\n",
       "    </tr>\n",
       "    <tr>\n",
       "      <th>340</th>\n",
       "      <td>Aneka Tambang Tbk, PT</td>\n",
       "      <td>Ni-Hg</td>\n",
       "      <td>kg</td>\n",
       "      <td>2004</td>\n",
       "      <td>3152420000</td>\n",
       "    </tr>\n",
       "    <tr>\n",
       "      <th>341</th>\n",
       "      <td>Aneka Tambang Tbk, PT</td>\n",
       "      <td>Ni-Hg</td>\n",
       "      <td>kg</td>\n",
       "      <td>2003</td>\n",
       "      <td>3306733000</td>\n",
       "    </tr>\n",
       "    <tr>\n",
       "      <th>342</th>\n",
       "      <td>Aneka Tambang Tbk, PT</td>\n",
       "      <td>Ni-Hg</td>\n",
       "      <td>kg</td>\n",
       "      <td>2009</td>\n",
       "      <td>3342671000</td>\n",
       "    </tr>\n",
       "    <tr>\n",
       "      <th>343</th>\n",
       "      <td>Aneka Tambang Tbk, PT</td>\n",
       "      <td>Ni-Hg</td>\n",
       "      <td>kg</td>\n",
       "      <td>2006</td>\n",
       "      <td>3493961000</td>\n",
       "    </tr>\n",
       "    <tr>\n",
       "      <th>344</th>\n",
       "      <td>Aneka Tambang Tbk, PT</td>\n",
       "      <td>Nickel ore</td>\n",
       "      <td>kg</td>\n",
       "      <td>2001</td>\n",
       "      <td>3619141000</td>\n",
       "    </tr>\n",
       "    <tr>\n",
       "      <th>345</th>\n",
       "      <td>Aneka Tambang Tbk, PT</td>\n",
       "      <td>Ni-Hg</td>\n",
       "      <td>kg</td>\n",
       "      <td>2002</td>\n",
       "      <td>3640705000</td>\n",
       "    </tr>\n",
       "    <tr>\n",
       "      <th>346</th>\n",
       "      <td>Aneka Tambang Tbk, PT</td>\n",
       "      <td>Ni-Hg</td>\n",
       "      <td>kg</td>\n",
       "      <td>2008</td>\n",
       "      <td>4027520000</td>\n",
       "    </tr>\n",
       "    <tr>\n",
       "      <th>347</th>\n",
       "      <td>Aneka Tambang Tbk, PT</td>\n",
       "      <td>Nickel ore</td>\n",
       "      <td>kg</td>\n",
       "      <td>2004</td>\n",
       "      <td>4095478000</td>\n",
       "    </tr>\n",
       "    <tr>\n",
       "      <th>348</th>\n",
       "      <td>Aneka Tambang Tbk, PT</td>\n",
       "      <td>Nickel ore</td>\n",
       "      <td>kg</td>\n",
       "      <td>2006</td>\n",
       "      <td>4353832000</td>\n",
       "    </tr>\n",
       "    <tr>\n",
       "      <th>349</th>\n",
       "      <td>Aneka Tambang Tbk, PT</td>\n",
       "      <td>Nickel ore</td>\n",
       "      <td>kg</td>\n",
       "      <td>2002</td>\n",
       "      <td>4366325000</td>\n",
       "    </tr>\n",
       "    <tr>\n",
       "      <th>350</th>\n",
       "      <td>Aneka Tambang Tbk, PT</td>\n",
       "      <td>Nickel ore</td>\n",
       "      <td>kg</td>\n",
       "      <td>2003</td>\n",
       "      <td>4395429000</td>\n",
       "    </tr>\n",
       "    <tr>\n",
       "      <th>351</th>\n",
       "      <td>Aneka Tambang Tbk, PT</td>\n",
       "      <td>Nickel ore</td>\n",
       "      <td>kg</td>\n",
       "      <td>2009</td>\n",
       "      <td>5802080000</td>\n",
       "    </tr>\n",
       "    <tr>\n",
       "      <th>352</th>\n",
       "      <td>Aneka Tambang Tbk, PT</td>\n",
       "      <td>Nickel ore</td>\n",
       "      <td>kg</td>\n",
       "      <td>2008</td>\n",
       "      <td>6571764000</td>\n",
       "    </tr>\n",
       "    <tr>\n",
       "      <th>353</th>\n",
       "      <td>Aneka Tambang Tbk, PT</td>\n",
       "      <td>Ni-Hg</td>\n",
       "      <td>kg</td>\n",
       "      <td>2007</td>\n",
       "      <td>6764430000</td>\n",
       "    </tr>\n",
       "    <tr>\n",
       "      <th>354</th>\n",
       "      <td>Aneka Tambang Tbk, PT</td>\n",
       "      <td>Nickel ore</td>\n",
       "      <td>kg</td>\n",
       "      <td>2007</td>\n",
       "      <td>7112870000</td>\n",
       "    </tr>\n",
       "  </tbody>\n",
       "</table>\n",
       "<p>355 rows × 5 columns</p>\n",
       "</div>"
      ],
      "text/plain": [
       "               Nama_perusahaan      Komoditas Satuan  Tahun       Nilai\n",
       "0            Galuh Cempaka, PT        Diamond     kg   2005    21606000\n",
       "1            Galuh Cempaka, PT        Diamond     kg   2007    22980000\n",
       "2            Galuh Cempaka, PT        Diamond     kg   2008    27688000\n",
       "3            Galuh Cempaka, PT        Diamond     kg   2006    46856000\n",
       "4    Newmont Nusa Tenggara, PT  Copper conct.     kg   2010   227169000\n",
       "5    Newmont Nusa Tenggara, PT  Copper conct.     kg   2008   496972000\n",
       "6       Freeport Indonesia, PT  Copper conct.     kg   2010   610377000\n",
       "7    Newmont Nusa Tenggara, PT  Copper conct.     kg   2006   714331000\n",
       "8    Newmont Nusa Tenggara, PT  Copper conct.     kg   2000   743697000\n",
       "9    Newmont Nusa Tenggara, PT  Copper conct.     kg   2009   752355000\n",
       "10   Newmont Nusa Tenggara, PT  Copper conct.     kg   2007   789564000\n",
       "11   Newmont Nusa Tenggara, PT  Copper conct.     kg   2001   871389000\n",
       "12   Newmont Nusa Tenggara, PT  Copper conct.     kg   2005   908258000\n",
       "13   Newmont Nusa Tenggara, PT  Copper conct.     kg   2003   932106000\n",
       "14   Newmont Nusa Tenggara, PT  Copper conct.     kg   2002   935505000\n",
       "15   Newmont Nusa Tenggara, PT  Copper conct.     kg   2004  1007099000\n",
       "16      Freeport Indonesia, PT  Copper conct.     kg   2004  1803234000\n",
       "17      Freeport Indonesia, PT  Copper conct.     kg   2008  1900927000\n",
       "18      Freeport Indonesia, PT  Copper conct.     kg   2007  2025388000\n",
       "19      Freeport Indonesia, PT  Copper conct.     kg   2006  2223678000\n",
       "20      Freeport Indonesia, PT  Copper conct.     kg   2003  2306200000\n",
       "21      Freeport Indonesia, PT  Copper conct.     kg   2001  2418110000\n",
       "22      Freeport Indonesia, PT  Copper conct.     kg   2000  2522670000\n",
       "23      Freeport Indonesia, PT  Copper conct.     kg   2005  2645550000\n",
       "24      Freeport Indonesia, PT  Copper conct.     kg   2009  2731769000\n",
       "25      Freeport Indonesia, PT  Copper conct.     kg   2002  2851190000\n",
       "26           Galuh Cempaka, PT           Gold     kg   2005          11\n",
       "27           Galuh Cempaka, PT           Gold     kg   2008          15\n",
       "28           Galuh Cempaka, PT           Gold     kg   2007          17\n",
       "29           Galuh Cempaka, PT           Gold     kg   2006          37\n",
       "..                         ...            ...    ...    ...         ...\n",
       "325      Aneka Tambang Tbk, PT      Iron sand     kg   2000   489132000\n",
       "326      Aneka Tambang Tbk, PT         #NAME?     kg   2005   708812000\n",
       "327      Aneka Tambang Tbk, PT         #NAME?     kg   2002   725530000\n",
       "328      Aneka Tambang Tbk, PT         #NAME?     kg   2006   859871000\n",
       "329      Aneka Tambang Tbk, PT     Nickel ore     kg   2000   931355000\n",
       "330      Aneka Tambang Tbk, PT          Ni-Lg     kg   2004   943058000\n",
       "331      Aneka Tambang Tbk, PT          Ni-Lg     kg   2003  1088696000\n",
       "332      Aneka Tambang Tbk, PT          Ni-Lg     kg   2001  1120978000\n",
       "333      Aneka Tambang Tbk, PT          Ni-Hg     kg   2005  1836768000\n",
       "334      Aneka Tambang Tbk, PT     Nickel ore     kg   2000  2107454000\n",
       "335      Aneka Tambang Tbk, PT          Ni-Lg     kg   2009  2459409000\n",
       "336      Aneka Tambang Tbk, PT          Ni-Hg     kg   2001  2498163000\n",
       "337      Aneka Tambang Tbk, PT          Ni-Lg     kg   2008  2544244000\n",
       "338      Aneka Tambang Tbk, PT     Nickel ore     kg   2005  2545580000\n",
       "339      Aneka Tambang Tbk, PT     Nickel ore     kg   2000  3038809000\n",
       "340      Aneka Tambang Tbk, PT          Ni-Hg     kg   2004  3152420000\n",
       "341      Aneka Tambang Tbk, PT          Ni-Hg     kg   2003  3306733000\n",
       "342      Aneka Tambang Tbk, PT          Ni-Hg     kg   2009  3342671000\n",
       "343      Aneka Tambang Tbk, PT          Ni-Hg     kg   2006  3493961000\n",
       "344      Aneka Tambang Tbk, PT     Nickel ore     kg   2001  3619141000\n",
       "345      Aneka Tambang Tbk, PT          Ni-Hg     kg   2002  3640705000\n",
       "346      Aneka Tambang Tbk, PT          Ni-Hg     kg   2008  4027520000\n",
       "347      Aneka Tambang Tbk, PT     Nickel ore     kg   2004  4095478000\n",
       "348      Aneka Tambang Tbk, PT     Nickel ore     kg   2006  4353832000\n",
       "349      Aneka Tambang Tbk, PT     Nickel ore     kg   2002  4366325000\n",
       "350      Aneka Tambang Tbk, PT     Nickel ore     kg   2003  4395429000\n",
       "351      Aneka Tambang Tbk, PT     Nickel ore     kg   2009  5802080000\n",
       "352      Aneka Tambang Tbk, PT     Nickel ore     kg   2008  6571764000\n",
       "353      Aneka Tambang Tbk, PT          Ni-Hg     kg   2007  6764430000\n",
       "354      Aneka Tambang Tbk, PT     Nickel ore     kg   2007  7112870000\n",
       "\n",
       "[355 rows x 5 columns]"
      ]
     },
     "execution_count": 55,
     "metadata": {},
     "output_type": "execute_result"
    }
   ],
   "source": [
    "data_produksi"
   ]
  },
  {
   "cell_type": "markdown",
   "metadata": {},
   "source": [
    "# 1. Deskripsi\n",
    "Data yang dipakai merupakan data produksi mineral tambang dari Perusahaan - Perusahaan tambang yang beropasi di Indonesia dari tahun 2000 - 2010. Tambang yang dihasilkan dari berbagai macam komoditi tambang, yang kebanyakan merupakan mineral logam. Tiap-tiap komoditi memiliki satuan produksi yang berbeda, namum dalam data ini sudah dianggap sama yaitu dalam satuan kilogram (kg)."
   ]
  },
  {
   "cell_type": "code",
   "execution_count": 4,
   "metadata": {
    "scrolled": true
   },
   "outputs": [
    {
     "data": {
      "text/plain": [
       "Nama_perusahaan    355\n",
       "Komoditas          355\n",
       "Satuan             355\n",
       "Tahun              355\n",
       "Nilai              355\n",
       "dtype: int64"
      ]
     },
     "execution_count": 4,
     "metadata": {},
     "output_type": "execute_result"
    }
   ],
   "source": [
    "data_produksi.count()"
   ]
  },
  {
   "cell_type": "markdown",
   "metadata": {},
   "source": [
    "# 2. Statistik"
   ]
  },
  {
   "cell_type": "code",
   "execution_count": 12,
   "metadata": {},
   "outputs": [
    {
     "name": "stdout",
     "output_type": "stream",
     "text": [
      "Produksi Maksimum: 7112870000 KG\n",
      "Produksi Minimum: 11 KG\n",
      "Praduksi Rata-rata : 520410030.3352113 KG\n",
      "Total Produksi : 184745560769 KG\n"
     ]
    }
   ],
   "source": [
    "produksi_maks = data_produksi.Nilai.max()\n",
    "produksi_min = data_produksi.Nilai.min()\n",
    "produksi_rata = data_produksi.Nilai.mean()\n",
    "produksi_tot = data_produksi.Nilai.sum()\n",
    "\n",
    "print (\"Produksi Maksimum:\",produksi_maks,\"KG\")\n",
    "print (\"Produksi Minimum:\", produksi_min, \"KG\")\n",
    "print (\"Praduksi Rata-rata :\", produksi_rata, \"KG\")\n",
    "print (\"Total Produksi :\" , produksi_tot, \"KG\")"
   ]
  },
  {
   "cell_type": "code",
   "execution_count": null,
   "metadata": {},
   "outputs": [],
   "source": [
    "data_produksi[data_produksi['Komoditas']=='Gold']"
   ]
  },
  {
   "cell_type": "markdown",
   "metadata": {},
   "source": [
    "## Pengelompokan Komoditas Mineral"
   ]
  },
  {
   "cell_type": "code",
   "execution_count": null,
   "metadata": {},
   "outputs": [],
   "source": [
    "data_produksi.groupby('Komoditas').sum()"
   ]
  },
  {
   "cell_type": "code",
   "execution_count": null,
   "metadata": {},
   "outputs": [],
   "source": [
    "data_produksi.groupby('Komoditas').mean()"
   ]
  },
  {
   "cell_type": "markdown",
   "metadata": {},
   "source": [
    "## Pengelompokan Nama Perusahaan"
   ]
  },
  {
   "cell_type": "code",
   "execution_count": null,
   "metadata": {},
   "outputs": [],
   "source": [
    "data_produksi.groupby('Nama_perusahaan').mean()"
   ]
  },
  {
   "cell_type": "code",
   "execution_count": null,
   "metadata": {},
   "outputs": [],
   "source": [
    "data_produksi.groupby('Nama_perusahaan').sum()"
   ]
  },
  {
   "cell_type": "markdown",
   "metadata": {},
   "source": [
    "## Pengelompokan Tahun"
   ]
  },
  {
   "cell_type": "code",
   "execution_count": null,
   "metadata": {},
   "outputs": [],
   "source": [
    "data_produksi.groupby('Tahun').mean()"
   ]
  },
  {
   "cell_type": "code",
   "execution_count": null,
   "metadata": {},
   "outputs": [],
   "source": [
    "data_produksi.groupby('Tahun').sum()"
   ]
  },
  {
   "cell_type": "markdown",
   "metadata": {},
   "source": [
    "# 3. Visualisai"
   ]
  },
  {
   "cell_type": "code",
   "execution_count": 52,
   "metadata": {},
   "outputs": [
    {
     "data": {
      "text/plain": [
       "Text(0,0.5,'Nilai')"
      ]
     },
     "execution_count": 52,
     "metadata": {},
     "output_type": "execute_result"
    },
    {
     "data": {
      "image/png": "[encoded data removed]",
      "text/plain": [
       "<Figure size 432x288 with 1 Axes>"
      ]
     },
     "metadata": {
      "needs_background": "light"
     },
     "output_type": "display_data"
    }
   ],
   "source": [
    "ax = data_produksi.groupby('Komoditas').sum()['Nilai']\n",
    "ax = ax.plot(kind='bar', title =\"Jumlah Berdasarkan Komoditas Mineral\", legend=True, fontsize=12)\n",
    "ax.set_xlabel(\"Komoditas\", fontsize=12)\n",
    "ax.set_ylabel(\"Nilai\", fontsize=12)"
   ]
  },
  {
   "cell_type": "code",
   "execution_count": 39,
   "metadata": {},
   "outputs": [
    {
     "data": {
      "text/plain": [
       "Text(0,0.5,'Nilai')"
      ]
     },
     "execution_count": 39,
     "metadata": {},
     "output_type": "execute_result"
    },
    {
     "data": {
      "image/png": "[encoded data removed]",
      "text/plain": [
       "<Figure size 432x288 with 1 Axes>"
      ]
     },
     "metadata": {
      "needs_background": "light"
     },
     "output_type": "display_data"
    }
   ],
   "source": [
    "ax = data_produksi.groupby('Komoditas').mean()['Nilai']\n",
    "ax = ax.plot(kind='bar', title =\"Rata-Rata Berdasarkan Komoditas Mineral\", legend=True, fontsize=12)\n",
    "ax.set_xlabel(\"Komoditas\", fontsize=12)\n",
    "ax.set_ylabel(\"Nilai\", fontsize=12)"
   ]
  },
  {
   "cell_type": "code",
   "execution_count": 56,
   "metadata": {},
   "outputs": [
    {
     "data": {
      "text/plain": [
       "Text(0,0.5,'Nilai')"
      ]
     },
     "execution_count": 56,
     "metadata": {},
     "output_type": "execute_result"
    },
    {
     "data": {
      "image/png": "[encoded data removed]",
      "text/plain": [
       "<Figure size 432x288 with 1 Axes>"
      ]
     },
     "metadata": {
      "needs_background": "light"
     },
     "output_type": "display_data"
    }
   ],
   "source": [
    "ax = data_produksi.groupby('Tahun').sum()['Nilai']\n",
    "ax = ax.plot(kind='bar', title =\"Jumlah Berdasarkan Tahun\", legend=True, fontsize=12)\n",
    "ax.set_xlabel(\"Tahun\", fontsize=12)\n",
    "ax.set_ylabel(\"Nilai\", fontsize=12)"
   ]
  },
  {
   "cell_type": "code",
   "execution_count": 53,
   "metadata": {},
   "outputs": [
    {
     "data": {
      "text/plain": [
       "Text(0,0.5,'Nilai')"
      ]
     },
     "execution_count": 53,
     "metadata": {},
     "output_type": "execute_result"
    },
    {
     "data": {
      "image/png": "[encoded data removed]",
      "text/plain": [
       "<Figure size 432x288 with 1 Axes>"
      ]
     },
     "metadata": {
      "needs_background": "light"
     },
     "output_type": "display_data"
    }
   ],
   "source": [
    "ax = data_produksi.groupby('Nama_perusahaan').mean()['Nilai']\n",
    "ax = ax.plot(kind='bar', title =\"Rata-Rata Berdasarkan Nama Perusahaan\", legend=True, fontsize=12)\n",
    "ax.set_xlabel(\"Nama Perusahaan\", fontsize=12)\n",
    "ax.set_ylabel(\"Nilai\", fontsize=12)"
   ]
  },
  {
   "cell_type": "markdown",
   "metadata": {},
   "source": [
    "# 4. Analisis"
   ]
  },
  {
   "cell_type": "markdown",
   "metadata": {},
   "source": [
    "Komoditas tambang mineral yang berhasil diproduksi oleh perusahaan tambang Indonesia paling banyak adalah bijih nikel. Rata-rata komoditas tambang mineral terbesar adalah mineral Bauxite dan bijih nikel. \n",
    "\n",
    "Jumlah produksi dari tahun ke tahun menunjukan perkembangan yang fluktuatif. Dari grafik produksi terhadap tahun dimungkinkan produksi mineral paling besar berada pada tahun 2002. Dan periode tahun 2003 sampai dengan 2005 merupakan periode eksplorasi tambang mineral, yang menghasilkan beberapa lapangan prospek tambang mineral, sehingga pada periode 2006 - 2007 terdapat peningkatan produksi mineral.\n",
    "\n",
    "Dilihat dari perusahaan yang berjalan, perusahaan yang menghasilkan produksi mineral tinggi di dominasi oleh perusahaan-perusahaan besar, seperti PT ANTAM, FREEPORT, KARIMUN GRANITE, dan NEWMONT.\n",
    "PT KARIMUN GRANITE mendominasi produksi mineral granite. PT ANTAM mendominasi berbagai macam mineral, dan PT FREEPORT dan NEWMONT lebih pada mineral emas yang kebanyakan di temukan di wilayah Indonesia bagian timur.\n",
    "\n",
    "### Prospek Kedepan\n",
    "Kemajuan teknologi saat ini akan mendukung peningkatan pemanfaatan tambang mineral terutama mineral logam, mengakibatkan mineral-mineral logam akan bernilai. Berdasarkan grafik hasil produksi mineral mulai tahun 2007 terdapat trend negarif (produksi mengalami penurunan) sehingga mulai dari tahun 2007 perlu dilakukan kegiatan eksplorasi dan eksploitasi tambang mineral untuk menemukan lapangan prospek tambang untuk meningkatan hasil produksi tambang. Selain itu juga perlu adanya pengembangan dan pemanfaatan teknologi bidang eksplorasi dan eksploitasi yang lebih modern untuk meningkatkan kualitas dan kuantitas produksi."
   ]
  },
  {
   "cell_type": "code",
   "execution_count": null,
   "metadata": {},
   "outputs": [],
   "source": []
  },
  {
   "cell_type": "code",
   "execution_count": null,
   "metadata": {},
   "outputs": [],
   "source": []
  }
 ],
 "metadata": {
  "kernelspec": {
   "display_name": "Python 3",
   "language": "python",
   "name": "python3"
  },
  "language_info": {
   "codemirror_mode": {
    "name": "ipython",
    "version": 3
   },
   "file_extension": ".py",
   "mimetype": "text/x-python",
   "name": "python",
   "nbconvert_exporter": "python",
   "pygments_lexer": "ipython3",
   "version": "3.7.0"
  }
 },
 "nbformat": 4,
 "nbformat_minor": 2
}
